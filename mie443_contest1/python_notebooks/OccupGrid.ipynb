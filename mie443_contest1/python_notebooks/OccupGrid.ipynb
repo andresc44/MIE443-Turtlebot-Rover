{
  "nbformat": 4,
  "nbformat_minor": 0,
  "metadata": {
    "colab": {
      "provenance": []
    },
    "kernelspec": {
      "name": "python3",
      "display_name": "Python 3"
    },
    "language_info": {
      "name": "python"
    }
  },
  "cells": [
    {
      "cell_type": "code",
      "execution_count": null,
      "metadata": {
        "id": "WMN4ujPkHfJb"
      },
      "outputs": [],
      "source": [
        "import math\n",
        "import numpy as np\n",
        "from matplotlib import pyplot as plt\n",
        "from matplotlib import colors\n",
        "\n",
        "\n",
        "grid_x = 8; # Forward\n",
        "grid_y = 3; # Left\n",
        "\n",
        "\n",
        "yaw = 43;\n",
        "side_distance = 0.4\n",
        "\n"
      ]
    },
    {
      "cell_type": "code",
      "source": [
        "import math\n",
        "import numpy as np\n",
        "from matplotlib import pyplot as plt\n",
        "from matplotlib import colors\n",
        "\n",
        "\n",
        "grid_x = 19 # Forward\n",
        "grid_y = 22 # Left\n",
        "\n",
        "\n",
        "yaw = 60\n",
        "side_distance = 0.3\n",
        "\n",
        "map_width = 40\n",
        "map_height = 40\n",
        "resolution = 0.05\n",
        "\n",
        "matrix_x = grid_x\n",
        "matrix_y = grid_y\n",
        "\n",
        "yaw_ros = yaw + 90\n",
        "yaw_rad = yaw *math.pi/180\n",
        "\n",
        "x_delta = side_distance * math.sin(yaw_rad)\n",
        "x_disc = round(x_delta/resolution)\n",
        "\n",
        "y_delta = side_distance * math.cos(yaw_rad)\n",
        "y_disc = round(y_delta/resolution)\n",
        "\n",
        "data = np.zeros(map_width * map_height).reshape(map_width, map_height)\n",
        "\n",
        "EMPTY_CELL = 0\n",
        "CURR_CELL = 1\n",
        "LEFT_CELL = 2\n",
        "RIGHT_CELL = 3\n",
        "SURROUNDING_CELL = 4\n",
        "\n",
        "\n",
        "\n",
        "data [matrix_x, matrix_y] = CURR_CELL\n",
        "\n",
        "left_centre = np.array([matrix_x + x_disc, matrix_y - y_disc])\n",
        "right_centre = np.array([matrix_x - x_disc, matrix_y + y_disc])\n",
        "\n",
        "\n",
        "data [left_centre[0], left_centre[1]] = LEFT_CELL\n",
        "data [right_centre[0], right_centre[1]] = RIGHT_CELL\n",
        "\n",
        "block_size = 2\n",
        "total_blocks = 0\n",
        "\n",
        "left_counter = 0\n",
        "right_counter = 0\n",
        "for i in range(-block_size, block_size+1):\n",
        "  for j in range(-block_size, block_size+1):\n",
        "    left_counter += data [left_centre[0] + i, left_centre[1] + j]\n",
        "    right_counter += data [right_centre[0] + i, right_centre[1] + j]\n",
        "    data [left_centre[0] + i, left_centre[1] + j] = SURROUNDING_CELL\n",
        "    data [right_centre[0] + i, right_centre[1] + j] = SURROUNDING_CELL\n",
        "    total_blocks += 1\n",
        "\n",
        "data [left_centre[0], left_centre[1]] = LEFT_CELL\n",
        "data [right_centre[0], right_centre[1]] = RIGHT_CELL\n",
        "\n",
        "\n",
        "\n",
        "left_avg = left_counter/total_blocks\n",
        "right_avg = right_counter/total_blocks\n",
        "\n",
        "print(\"total block\") \n",
        "print(total_blocks)\n",
        "\n",
        "\n",
        "print(\"left avg\") \n",
        "print(left_avg)\n",
        "print(\"right avg\")\n",
        "print(right_avg)\n",
        "\n",
        "\n",
        "  \n",
        "\n",
        "\n",
        "\n",
        "cmap = colors.ListedColormap(['white', 'red', 'green', 'blue', 'purple'])\n",
        "bounds = [EMPTY_CELL, CURR_CELL, LEFT_CELL, RIGHT_CELL, SURROUNDING_CELL, SURROUNDING_CELL +1]\n",
        "norm = colors.BoundaryNorm(bounds, cmap.N)\n",
        "\n",
        "fig, ax = plt.subplots()\n",
        "ax.imshow(data, cmap=cmap, norm=norm)\n",
        "# draw gridlines\n",
        "ax.grid(which='major', axis='both', linestyle='-', color='k', linewidth=1)\n",
        "ax.set_xticks(np.arange(0.5, map_width, 1));\n",
        "ax.set_yticks(np.arange(0.5, map_height, 1));\n",
        "plt.tick_params(axis='both', labelsize=0, length = 0)\n",
        "plt.show()\n",
        "# fig.set_size_inches((8.5, 11), forward=False)\n",
        "# plt.savefig(saveImageName + \".png\", dpi=500)\n",
        "\n",
        "# get pixel shift\n",
        "\n"
      ],
      "metadata": {
        "colab": {
          "base_uri": "https://localhost:8080/",
          "height": 357
        },
        "id": "UnAC_smfH2a1",
        "outputId": "2666cc15-dcae-4cdd-da22-aa92422526a5"
      },
      "execution_count": null,
      "outputs": [
        {
          "output_type": "stream",
          "name": "stdout",
          "text": [
            "total block\n",
            "25\n",
            "left avg\n",
            "0.08\n",
            "right avg\n",
            "0.12\n"
          ]
        },
        {
          "output_type": "display_data",
          "data": {
            "text/plain": [
              "<Figure size 432x288 with 1 Axes>"
            ],
            "image/png": "[encoded data removed]"
          },
          "metadata": {
            "needs_background": "light"
          }
        }
      ]
    }
  ]
}