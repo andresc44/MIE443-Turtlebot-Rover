{
  "nbformat": 4,
  "nbformat_minor": 0,
  "metadata": {
    "colab": {
      "provenance": []
    },
    "kernelspec": {
      "name": "python3",
      "display_name": "Python 3"
    },
    "language_info": {
      "name": "python"
    }
  },
  "cells": [
    {
      "cell_type": "code",
      "source": [
        "#@title Enter Odom Coordinates (0 -> 5) and Yaw (-180 -> 180), then press 'Run all' from 'Runtime' tab. { display-mode: \"form\" }\n",
        "x_coordinate = 1 #@param {type:\"raw\"}\n",
        "y_coordinate = 3 #@param {type:\"raw\"}\n",
        "yaw = -20 #@param {type:\"raw\"}"
      ],
      "metadata": {
        "id": "fYdsJxxKUR2A"
      },
      "execution_count": 1,
      "outputs": []
    },
    {
      "cell_type": "markdown",
      "source": [
        "#Code"
      ],
      "metadata": {
        "id": "My5NktGmWImN"
      }
    },
    {
      "cell_type": "code",
      "execution_count": 6,
      "metadata": {
        "colab": {
          "base_uri": "https://localhost:8080/",
          "height": 330
        },
        "id": "PMnmhNr7Zr4x",
        "outputId": "4200561f-3ce7-4f97-c4b4-8fc51a2dfbdc"
      },
      "outputs": [
        {
          "output_type": "stream",
          "name": "stdout",
          "text": [
            "1.0\n"
          ]
        },
        {
          "output_type": "execute_result",
          "data": {
            "text/plain": [
              "Text(2.6, 2.6, 'Checkpoint Centroid')"
            ]
          },
          "metadata": {},
          "execution_count": 6
        },
        {
          "output_type": "display_data",
          "data": {
            "text/plain": [
              "<Figure size 432x288 with 1 Axes>"
            ],
            "image/png": "[encoded data removed]"
          },
          "metadata": {
            "needs_background": "light"
          }
        }
      ],
      "source": [
        "#@title\n",
        "\n",
        "import numpy as np\n",
        "from matplotlib import pyplot as plt\n",
        "import math\n",
        "\n",
        "\n",
        "#!!!!!!!!!!!!!!!!\n",
        "#Red is all the checkpoints\n",
        "#Green is the centroid\n",
        "#Blue circle is where we are\n",
        "#Blue X indicates the direction we are facing\n",
        "#Blue diamond is the left direction\n",
        "#Blue triangle is the right direction\n",
        "#Dotted line is the direction algorithm chooses is better\n",
        "odom_array = np.array([[0,1], [1,2], [3, 2], [2, 1], [4, 0], [1, 4], [3, 4]])\n",
        "\n",
        "x = odom_array[:, 0]\n",
        "y = odom_array[:, 1]  \n",
        "\n",
        "current_x = x_coordinate\n",
        "current_y = y_coordinate\n",
        "\n",
        "_len = len(x)\n",
        "centroid_x = sum(x)/_len\n",
        "centroid_y = sum(y)/_len\n",
        "\n",
        "diff = np.array([(current_x-centroid_x), (current_y-centroid_y)])\n",
        "\n",
        "\n",
        "angle = yaw\n",
        "angle_rad = angle *math.pi / 180 + (math.pi/2)\n",
        "\n",
        "left_angle = angle_rad + math.pi/2\n",
        "right_angle = angle_rad - math.pi/2\n",
        "\n",
        "unit_vector = np.array([math.cos(angle_rad), math.sin(angle_rad)])\n",
        "\n",
        "unit_vector_left = np.array([math.cos(left_angle), math.sin(left_angle)])\n",
        "unit_vector_right = np.array([math.cos(right_angle), math.sin(right_angle)])\n",
        "\n",
        "result = np.sign(np.dot(unit_vector_left, diff))\n",
        "print(result)\n",
        "\n",
        "if (result == 1):\n",
        "  left = True\n",
        "else:\n",
        "  left = False\n",
        "\n",
        "fig, axs = plt.subplots(1, 1)\n",
        "plt.title(\"Odometry-checkpoints Based Decision\") \n",
        "plt.xlabel(\"x direction [m]\") \n",
        "plt.ylabel(\"y direction [m]\") \n",
        "plt.plot(x,y, 'ro')\n",
        "plt.plot(current_x, current_y, 'bo')\n",
        "\n",
        "plt.plot(current_x+unit_vector[0], current_y+unit_vector[1], 'bx')\n",
        "\n",
        "\n",
        "plt.plot(centroid_x, centroid_y, 'go')\n",
        "\n",
        "plt.plot(current_x+unit_vector_left[0], current_y+unit_vector_left[1], 'bd')\n",
        "plt.plot(current_x+unit_vector_right[0], current_y+unit_vector_right[1], 'b>')\n",
        "\n",
        "if left:\n",
        "  plt.plot([current_x, current_x+unit_vector_left[0]], [current_y, current_y+unit_vector_left[1]], 'k--')\n",
        "\n",
        "else:\n",
        "  plt.plot([current_x, current_x+unit_vector_right[0]], [current_y, current_y+unit_vector_right[1]], 'k--')\n",
        "\n",
        "axs.set_aspect('equal', 'box')\n",
        "\n",
        "axs.annotate('Left', xy=(current_x+unit_vector_left[0], current_y+unit_vector_left[1]+ 0.1), xytext=(current_x+unit_vector_left[0], current_y+unit_vector_left[1]+0.7),\n",
        "            arrowprops=dict(facecolor='black', shrink=0.01))\n",
        "axs.annotate('Right', xy=(current_x+unit_vector_right[0], current_y+unit_vector_right[1]+ 0.1), xytext=(current_x+unit_vector_right[0], current_y+unit_vector_right[1]+0.7),\n",
        "            arrowprops=dict(facecolor='black', shrink=0.01))\n",
        "axs.annotate('Forward', xy=(current_x+unit_vector[0]+ 0.1, current_y+unit_vector[1]), xytext=(current_x+unit_vector[0] + 0.7, current_y+unit_vector[1]),\n",
        "            arrowprops=dict(facecolor='black', shrink=0.01))\n",
        "\n",
        "axs.annotate('Checkpoint Centroid', xy=(centroid_x+ 0.1, centroid_y+ 0.1), xytext=(centroid_x + 0.6, centroid_y + 0.6),\n",
        "            arrowprops=dict(facecolor='black', shrink=0.01))\n",
        "\n"
      ]
    },
    {
      "cell_type": "markdown",
      "source": [
        "Red is all the checkpoints<br>\n",
        "Green is the centroid<br>\n",
        "Blue circle is where we are<br>\n",
        "Blue X indicates the direction we are facing<br>\n",
        "Blue diamond is the left direction<br>\n",
        "Blue triangle is the right direction<br>\n",
        "Dotted line is the direction algorithm chooses is better<br>"
      ],
      "metadata": {
        "id": "uMPNt2VEZHai"
      }
    }
  ]
}