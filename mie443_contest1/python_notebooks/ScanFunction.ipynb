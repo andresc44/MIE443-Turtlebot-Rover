{
  "nbformat": 4,
  "nbformat_minor": 0,
  "metadata": {
    "colab": {
      "provenance": []
    },
    "kernelspec": {
      "name": "python3",
      "display_name": "Python 3"
    },
    "language_info": {
      "name": "python"
    }
  },
  "cells": [
    {
      "cell_type": "code",
      "execution_count": 1,
      "metadata": {
        "id": "v2yLLb1ocyXm"
      },
      "outputs": [],
      "source": [
        "import math\n",
        "import numpy as np\n",
        "from matplotlib import pyplot as plt\n",
        "min_angle = -0.513185441494\n",
        "max_angle = 0.49990695715\n",
        "angle_increment = 0.0015854307451\n",
        "\n",
        "d_centre2cam = 0.09 #distance from centreof robot to front of camera\n",
        "min_distance = 0.55 #robot cannot read less\n",
        "clearence_width = 0.4 # space w need in order to go straight\n",
        "phi = 0.35 #Forward distance for turning\n",
        "C_mult = 1.1\n",
        "\n"
      ]
    },
    {
      "cell_type": "markdown",
      "source": [
        "#code"
      ],
      "metadata": {
        "id": "pM3AH56fVaLL"
      }
    },
    {
      "cell_type": "code",
      "source": [
        "#@title\n",
        "ints = round((max_angle-min_angle)/angle_increment)\n",
        "print(ints)\n",
        "\n",
        "\n",
        "turtlebot_r = 0.354 #radius of bot\n",
        "hidden_dist = turtlebot_r/2 + d_centre2cam # distance taken up by bot footprint\n",
        "front_blind = min_distance - (hidden_dist) # space in front we are blind to\n",
        "print(front_blind)\n",
        "\n",
        "\n",
        "\n",
        "half_width = clearence_width/2 #for trig\n",
        "\n",
        "forward_boundary_angle = math.atan(half_width/(hidden_dist+phi))\n",
        "forward_boundary_angle_deg = forward_boundary_angle*180/math.pi\n",
        "\n",
        "print(forward_boundary_angle_deg)\n",
        "\n",
        "#beta = forward_boundary_angle_deg\n"
      ],
      "metadata": {
        "colab": {
          "base_uri": "https://localhost:8080/"
        },
        "id": "IF6vjYBYAblM",
        "outputId": "3ea4c776-b9fa-4b91-b907-31b8782f416e"
      },
      "execution_count": 2,
      "outputs": [
        {
          "output_type": "stream",
          "name": "stdout",
          "text": [
            "639\n",
            "0.28300000000000003\n",
            "17.96005562599744\n"
          ]
        }
      ]
    },
    {
      "cell_type": "code",
      "source": [
        "#@title\n",
        "offset = math.pi/2\n",
        "\n",
        "total_ints = ints +1\n",
        "print(\"SCAN_LENGTH (length of array): \")\n",
        "print(total_ints)\n",
        "angles = np.linspace(offset + min_angle, offset + max_angle, num = (total_ints))\n",
        "\n",
        "factor = hidden_dist + phi\n",
        "sin_angles = np.sin(angles)\n",
        "cos_angles = np.cos(angles)\n",
        "\n",
        "\n",
        "\n",
        "\n",
        "B_offset = round(forward_boundary_angle/angle_increment)\n",
        "print(\"B Offset From Centre Index: \")\n",
        "print(B_offset)\n",
        "\n",
        "A_index = round(total_ints/2) # +- 5\n",
        "B_plus = A_index + B_offset # 5-\n",
        "B_minus = A_index - B_offset #5+\n",
        "C_minus = 0 #5+\n",
        "C_plus = total_ints-1   #5-\n",
        "\n",
        "print(\"Front Centre Distance Threshold\")\n",
        "print(factor)\n",
        "B_dist = round(factor / sin_angles[B_minus], 3)\n",
        "print(\"B Distance Threshold\")\n",
        "\n",
        "print(B_dist)\n",
        "\n",
        "\n",
        "C_dist = round(factor / sin_angles[C_minus], 3) * C_mult\n",
        "print(\"C Distance Threshold\")\n",
        "print(C_dist)\n",
        "\n",
        "C_Factor = C_dist / factor\n",
        "\n",
        "\n",
        "sin_angles *= factor\n",
        "cos_angles *= factor\n",
        "fig, axs = plt.subplots(1, 1)\n",
        "plt.title(\"Scan Points of Interest\") \n",
        "plt.xlabel(\"y direction [m]\") \n",
        "plt.ylabel(\"x direction [m]\") \n",
        "plt.plot(cos_angles,sin_angles, '--r')\n",
        "\n",
        "plt.plot(cos_angles[C_minus],sin_angles[C_minus], 'ob')\n",
        "plt.plot(cos_angles[B_minus],sin_angles[B_minus], 'og')\n",
        "plt.plot(cos_angles[A_index],sin_angles[A_index], 'dm')\n",
        "plt.plot(cos_angles[B_plus],sin_angles[B_plus], 'og')\n",
        "plt.plot(cos_angles[C_plus],sin_angles[C_plus], 'ob')\n",
        "\n",
        "\n",
        "# plt.plot(0,factor, 'ok')\n",
        "plt.plot(-half_width, factor, 'dg')\n",
        "plt.plot(half_width, factor, 'dg')\n",
        "plt.plot(cos_angles[C_minus]*C_Factor,sin_angles[C_minus]* C_Factor, 'db')\n",
        "plt.plot(cos_angles[C_plus]*C_Factor,sin_angles[C_plus]* C_Factor, 'db')\n",
        "\n",
        "\n",
        "plt.plot(0,0, 'ok')\n",
        "axs.set_aspect('equal', 'box')\n",
        "\n",
        "axs.annotate('A', xy=(cos_angles[A_index]-0.01,sin_angles[A_index]), xytext=(cos_angles[A_index]-0.1,sin_angles[A_index]+0.05),\n",
        "            arrowprops=dict(facecolor='black', shrink=0.01))\n",
        "axs.annotate('B', xy=(half_width-0.01,factor), xytext=(half_width-0.1,factor+0.05),\n",
        "            arrowprops=dict(facecolor='black', shrink=0.01))\n",
        "axs.annotate('C', xy=(cos_angles[C_minus]*C_Factor-0.01,sin_angles[C_minus]*C_Factor), xytext=(cos_angles[C_minus]*C_Factor-0.1,sin_angles[C_minus]*C_Factor+0.01),\n",
        "            arrowprops=dict(facecolor='black', shrink=0.01));"
      ],
      "metadata": {
        "colab": {
          "base_uri": "https://localhost:8080/",
          "height": 469
        },
        "id": "Fdw9ji3sfqad",
        "outputId": "28bcbc0b-861b-4272-8037-400aaf1b64c2"
      },
      "execution_count": 17,
      "outputs": [
        {
          "output_type": "stream",
          "name": "stdout",
          "text": [
            "SCAN_LENGTH (length of array): \n",
            "640\n",
            "B Offset From Centre Index: \n",
            "198\n",
            "Front Centre Distance Threshold\n",
            "0.617\n",
            "B Distance Threshold\n",
            "0.65\n",
            "C Distance Threshold\n",
            "0.7788\n"
          ]
        },
        {
          "output_type": "display_data",
          "data": {
            "text/plain": [
              "<Figure size 432x288 with 1 Axes>"
            ],
            "image/png": "[encoded data removed]"
          },
          "metadata": {
            "needs_background": "light"
          }
        }
      ]
    }
  ]
}